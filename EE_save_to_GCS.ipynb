{
 "cells": [
  {
   "cell_type": "markdown",
   "metadata": {
    "toc": true
   },
   "source": [
    "<h1>Table of Contents<span class=\"tocSkip\"></span></h1>\n",
    "<div class=\"toc\"><ul class=\"toc-item\"></ul></div>"
   ]
  },
  {
   "cell_type": "markdown",
   "metadata": {},
   "source": [
    "- Lat: -90 South pole to +90 North Pole (equator=0)\n",
    "- Long: Greenwich 0 (-180 to +180)\n",
    "\n",
    "*note: EE takes care of the modulo + no need in Venezuela)*"
   ]
  },
  {
   "cell_type": "code",
   "execution_count": 21,
   "metadata": {},
   "outputs": [],
   "source": [
    "import math\n",
    "import time"
   ]
  },
  {
   "cell_type": "code",
   "execution_count": 1,
   "metadata": {
    "scrolled": true
   },
   "outputs": [],
   "source": [
    "import ee\n",
    "\n",
    "# authenticating a GCloud service account (id, privatekey)\n",
    "service_id = 'ee-access@goldbusters-data-load.iam.gserviceaccount.com'\n",
    "service_privatekey = 'goldbusters-data-load-privatekey.json'\n",
    "credentials = ee.ServiceAccountCredentials(service_id, service_privatekey)\n",
    "ee.Initialize(credentials)"
   ]
  },
  {
   "cell_type": "markdown",
   "metadata": {},
   "source": [
    "# WIP"
   ]
  },
  {
   "cell_type": "markdown",
   "metadata": {},
   "source": [
    "When exporting an image, we cut a **region** from a **scene**:\n",
    "- scene: defined by dataset, date, cloud coverage, bands\n",
    "- region: polygon drawing the region of interest (defined by a clockwise list of [lat,lon])"
   ]
  },
  {
   "cell_type": "markdown",
   "metadata": {},
   "source": [
    "### Get Scene"
   ]
  },
  {
   "cell_type": "code",
   "execution_count": 2,
   "metadata": {},
   "outputs": [],
   "source": [
    "# dataset and bands\n",
    "dataset = ee.ImageCollection('COPERNICUS/S2_SR').select(['B4', 'B3', 'B2'])\n",
    "\n",
    "# filter on dates, sort by cloud coverage (asc)\n",
    "scenes = dataset.filter(ee.Filter.date('2017-04-01', '2017-09-02')).sort('CLOUD_COVER')\n",
    "\n",
    "# Scene: pick the one with lowest cloud coverage (clearest)\n",
    "scene = scenes.first()"
   ]
  },
  {
   "cell_type": "markdown",
   "metadata": {},
   "source": [
    "### Get Region of Interest"
   ]
  },
  {
   "cell_type": "code",
   "execution_count": 16,
   "metadata": {},
   "outputs": [],
   "source": [
    "# offset a point by a shift, convert shift from meters to a lat/long offset\n",
    "def offset(point, shift_x, shift_y):\n",
    "    #Earth’s radius, sphere\n",
    "    R=6378137\n",
    "\n",
    "    #Coordinate offsets in radians\n",
    "    lat, lon = point\n",
    "    dLat = shift_x/R\n",
    "#     print(lat)\n",
    "#     print(type(lat))\n",
    "#     print(math.pi*lat)\n",
    "    dLon = shift_y/(R*math.cos(math.pi*lat/180))\n",
    "\n",
    "    return lat + dLat * 180/math.pi, lon + dLon * 180/math.pi\n",
    "\n",
    "# get image from center point + size\n",
    "def get_ROI(center, size):\n",
    "    \"\"\" Get coords of a square Regoin Of Interest from a center point coords and specified size\n",
    "    inputs:\n",
    "        center (tuple): coords of the center point for the tile eg:(lat, long)\n",
    "        size (int): shift (square region)\n",
    "    output:\n",
    "        ROI (list(list)): coords of bottom-left, upper-right corners of AOI\n",
    "    \"\"\"\n",
    "    lower_left_x, lower_left_y = offset(center, -size/2, -size/2)\n",
    "    upper_right_x, upper_right_y = offset(center, size/2, size/2)\n",
    "    \n",
    "    #region defined by its four corners (it's a polygon, clock-wise)\n",
    "    ROI = [[lower_left_x, lower_left_y],\n",
    "          [lower_left_x, upper_right_y],\n",
    "          [upper_right_x, upper_right_y],\n",
    "          [upper_right_x, lower_left_y]]\n",
    "    \n",
    "    return ee.Geometry.Polygon(ROI) "
   ]
  },
  {
   "cell_type": "markdown",
   "metadata": {},
   "source": [
    "### Cookie-cut the ROI from the Scene, export to GCS"
   ]
  },
  {
   "cell_type": "code",
   "execution_count": 10,
   "metadata": {},
   "outputs": [],
   "source": [
    "# Google Cloud Storage bucket name\n",
    "gcs_bucket = 'auven-satellite-data'"
   ]
  },
  {
   "cell_type": "code",
   "execution_count": 17,
   "metadata": {},
   "outputs": [],
   "source": [
    "center = (-78.614217766, -0.827621582972643)\n",
    "zoom_level = 17\n",
    "size_ROI = 2000 # 2km by 2km\n",
    "\n",
    "# get region from center + size\n",
    "ROI = get_ROI(center, size_ROI)"
   ]
  },
  {
   "cell_type": "markdown",
   "metadata": {},
   "source": [
    "*Note: the region argument passed to Export.image should be a **list of Polygons**.*\n",
    "\n",
    "*Way to do this:*\n",
    "- [ROI]\n",
    "- ROI.getInfo()['coordinates']"
   ]
  },
  {
   "cell_type": "code",
   "execution_count": 27,
   "metadata": {},
   "outputs": [
    {
     "data": {
      "text/plain": [
       "[ee.Geometry({\n",
       "   \"functionInvocationValue\": {\n",
       "     \"functionName\": \"GeometryConstructors.Polygon\",\n",
       "     \"arguments\": {\n",
       "       \"coordinates\": {\n",
       "         \"constantValue\": [\n",
       "           [\n",
       "             [\n",
       "               -78.62320091884119,\n",
       "               -0.8731256964561477\n",
       "             ],\n",
       "             [\n",
       "               -78.62320091884119,\n",
       "               -0.7821174694891383\n",
       "             ],\n",
       "             [\n",
       "               -78.6052346131588,\n",
       "               -0.7821174694891383\n",
       "             ],\n",
       "             [\n",
       "               -78.6052346131588,\n",
       "               -0.8731256964561477\n",
       "             ]\n",
       "           ]\n",
       "         ]\n",
       "       },\n",
       "       \"evenOdd\": {\n",
       "         \"constantValue\": true\n",
       "       }\n",
       "     }\n",
       "   }\n",
       " })]"
      ]
     },
     "execution_count": 27,
     "metadata": {},
     "output_type": "execute_result"
    }
   ],
   "source": [
    "[ROI]"
   ]
  },
  {
   "cell_type": "code",
   "execution_count": 24,
   "metadata": {
    "scrolled": true
   },
   "outputs": [
    {
     "data": {
      "text/plain": [
       "[[[-78.62320091884119, -0.8731256964561477],\n",
       "  [-78.6052346131588, -0.8731256964561477],\n",
       "  [-78.6052346131588, -0.7821174694891383],\n",
       "  [-78.62320091884119, -0.7821174694891383],\n",
       "  [-78.62320091884119, -0.8731256964561477]]]"
      ]
     },
     "execution_count": 24,
     "metadata": {},
     "output_type": "execute_result"
    }
   ],
   "source": [
    "ROI.getInfo()['coordinates']"
   ]
  },
  {
   "cell_type": "code",
   "execution_count": 33,
   "metadata": {},
   "outputs": [],
   "source": [
    "config = {'scale': zoom_level,\n",
    "          'region': ROI.getInfo()['coordinates'],\n",
    "          'bucket': gcs_bucket}\n",
    "\n",
    "# Export the image, specifying scene, region and scale (= zoom level).\n",
    "task = ee.batch.Export.image.toCloudStorage(scene, 'testExportGeoTIFF', **config)\n",
    "#     **{\n",
    "#     'image': scene,\n",
    "#     'description': 'testExportGeoTIFF',\n",
    "#     'region': ROI.getInfo()['coordinates'],\n",
    "#     'fileFormat': 'GeoTIFF',\n",
    "#     'bucket': gcs_bucket\n",
    "# })\n",
    "\n",
    "# Send the task to the earth engine.\n",
    "task.start()"
   ]
  },
  {
   "cell_type": "code",
   "execution_count": 34,
   "metadata": {
    "scrolled": true
   },
   "outputs": [
    {
     "name": "stdout",
     "output_type": "stream",
     "text": [
      "{'state': 'READY', 'description': 'testExportGeoTIFF', 'creation_timestamp_ms': 1620244066518, 'update_timestamp_ms': 1620244066518, 'start_timestamp_ms': 0, 'task_type': 'EXPORT_IMAGE', 'id': 'JHY3QY5R6IZ2LMH5PDVBDDPC', 'name': 'projects/earthengine-legacy/operations/JHY3QY5R6IZ2LMH5PDVBDDPC'}\n",
      "{'state': 'READY', 'description': 'testExportGeoTIFF', 'creation_timestamp_ms': 1620244066518, 'update_timestamp_ms': 1620244066518, 'start_timestamp_ms': 0, 'task_type': 'EXPORT_IMAGE', 'id': 'JHY3QY5R6IZ2LMH5PDVBDDPC', 'name': 'projects/earthengine-legacy/operations/JHY3QY5R6IZ2LMH5PDVBDDPC'}\n",
      "{'state': 'READY', 'description': 'testExportGeoTIFF', 'creation_timestamp_ms': 1620244066518, 'update_timestamp_ms': 1620244066518, 'start_timestamp_ms': 0, 'task_type': 'EXPORT_IMAGE', 'id': 'JHY3QY5R6IZ2LMH5PDVBDDPC', 'name': 'projects/earthengine-legacy/operations/JHY3QY5R6IZ2LMH5PDVBDDPC'}\n",
      "{'state': 'RUNNING', 'description': 'testExportGeoTIFF', 'creation_timestamp_ms': 1620244066518, 'update_timestamp_ms': 1620244094353, 'start_timestamp_ms': 1620244094215, 'task_type': 'EXPORT_IMAGE', 'attempt': 1, 'id': 'JHY3QY5R6IZ2LMH5PDVBDDPC', 'name': 'projects/earthengine-legacy/operations/JHY3QY5R6IZ2LMH5PDVBDDPC'}\n",
      "{'state': 'RUNNING', 'description': 'testExportGeoTIFF', 'creation_timestamp_ms': 1620244066518, 'update_timestamp_ms': 1620244094353, 'start_timestamp_ms': 1620244094215, 'task_type': 'EXPORT_IMAGE', 'attempt': 1, 'id': 'JHY3QY5R6IZ2LMH5PDVBDDPC', 'name': 'projects/earthengine-legacy/operations/JHY3QY5R6IZ2LMH5PDVBDDPC'}\n",
      "{'state': 'RUNNING', 'description': 'testExportGeoTIFF', 'creation_timestamp_ms': 1620244066518, 'update_timestamp_ms': 1620244094353, 'start_timestamp_ms': 1620244094215, 'task_type': 'EXPORT_IMAGE', 'attempt': 1, 'id': 'JHY3QY5R6IZ2LMH5PDVBDDPC', 'name': 'projects/earthengine-legacy/operations/JHY3QY5R6IZ2LMH5PDVBDDPC'}\n",
      "{'state': 'RUNNING', 'description': 'testExportGeoTIFF', 'creation_timestamp_ms': 1620244066518, 'update_timestamp_ms': 1620244129059, 'start_timestamp_ms': 1620244094215, 'task_type': 'EXPORT_IMAGE', 'attempt': 1, 'id': 'JHY3QY5R6IZ2LMH5PDVBDDPC', 'name': 'projects/earthengine-legacy/operations/JHY3QY5R6IZ2LMH5PDVBDDPC'}\n",
      "{'state': 'RUNNING', 'description': 'testExportGeoTIFF', 'creation_timestamp_ms': 1620244066518, 'update_timestamp_ms': 1620244129059, 'start_timestamp_ms': 1620244094215, 'task_type': 'EXPORT_IMAGE', 'attempt': 1, 'id': 'JHY3QY5R6IZ2LMH5PDVBDDPC', 'name': 'projects/earthengine-legacy/operations/JHY3QY5R6IZ2LMH5PDVBDDPC'}\n",
      "{'state': 'RUNNING', 'description': 'testExportGeoTIFF', 'creation_timestamp_ms': 1620244066518, 'update_timestamp_ms': 1620244129059, 'start_timestamp_ms': 1620244094215, 'task_type': 'EXPORT_IMAGE', 'attempt': 1, 'id': 'JHY3QY5R6IZ2LMH5PDVBDDPC', 'name': 'projects/earthengine-legacy/operations/JHY3QY5R6IZ2LMH5PDVBDDPC'}\n",
      "{'state': 'RUNNING', 'description': 'testExportGeoTIFF', 'creation_timestamp_ms': 1620244066518, 'update_timestamp_ms': 1620244129059, 'start_timestamp_ms': 1620244094215, 'task_type': 'EXPORT_IMAGE', 'attempt': 1, 'id': 'JHY3QY5R6IZ2LMH5PDVBDDPC', 'name': 'projects/earthengine-legacy/operations/JHY3QY5R6IZ2LMH5PDVBDDPC'}\n",
      "{'state': 'RUNNING', 'description': 'testExportGeoTIFF', 'creation_timestamp_ms': 1620244066518, 'update_timestamp_ms': 1620244129059, 'start_timestamp_ms': 1620244094215, 'task_type': 'EXPORT_IMAGE', 'attempt': 1, 'id': 'JHY3QY5R6IZ2LMH5PDVBDDPC', 'name': 'projects/earthengine-legacy/operations/JHY3QY5R6IZ2LMH5PDVBDDPC'}\n",
      "{'state': 'RUNNING', 'description': 'testExportGeoTIFF', 'creation_timestamp_ms': 1620244066518, 'update_timestamp_ms': 1620244187024, 'start_timestamp_ms': 1620244094215, 'task_type': 'EXPORT_IMAGE', 'attempt': 1, 'id': 'JHY3QY5R6IZ2LMH5PDVBDDPC', 'name': 'projects/earthengine-legacy/operations/JHY3QY5R6IZ2LMH5PDVBDDPC'}\n",
      "{'state': 'RUNNING', 'description': 'testExportGeoTIFF', 'creation_timestamp_ms': 1620244066518, 'update_timestamp_ms': 1620244187024, 'start_timestamp_ms': 1620244094215, 'task_type': 'EXPORT_IMAGE', 'attempt': 1, 'id': 'JHY3QY5R6IZ2LMH5PDVBDDPC', 'name': 'projects/earthengine-legacy/operations/JHY3QY5R6IZ2LMH5PDVBDDPC'}\n",
      "{'state': 'RUNNING', 'description': 'testExportGeoTIFF', 'creation_timestamp_ms': 1620244066518, 'update_timestamp_ms': 1620244187024, 'start_timestamp_ms': 1620244094215, 'task_type': 'EXPORT_IMAGE', 'attempt': 1, 'id': 'JHY3QY5R6IZ2LMH5PDVBDDPC', 'name': 'projects/earthengine-legacy/operations/JHY3QY5R6IZ2LMH5PDVBDDPC'}\n",
      "{'state': 'RUNNING', 'description': 'testExportGeoTIFF', 'creation_timestamp_ms': 1620244066518, 'update_timestamp_ms': 1620244187024, 'start_timestamp_ms': 1620244094215, 'task_type': 'EXPORT_IMAGE', 'attempt': 1, 'id': 'JHY3QY5R6IZ2LMH5PDVBDDPC', 'name': 'projects/earthengine-legacy/operations/JHY3QY5R6IZ2LMH5PDVBDDPC'}\n",
      "{'state': 'RUNNING', 'description': 'testExportGeoTIFF', 'creation_timestamp_ms': 1620244066518, 'update_timestamp_ms': 1620244187024, 'start_timestamp_ms': 1620244094215, 'task_type': 'EXPORT_IMAGE', 'attempt': 1, 'id': 'JHY3QY5R6IZ2LMH5PDVBDDPC', 'name': 'projects/earthengine-legacy/operations/JHY3QY5R6IZ2LMH5PDVBDDPC'}\n",
      "{'state': 'RUNNING', 'description': 'testExportGeoTIFF', 'creation_timestamp_ms': 1620244066518, 'update_timestamp_ms': 1620244187024, 'start_timestamp_ms': 1620244094215, 'task_type': 'EXPORT_IMAGE', 'attempt': 1, 'id': 'JHY3QY5R6IZ2LMH5PDVBDDPC', 'name': 'projects/earthengine-legacy/operations/JHY3QY5R6IZ2LMH5PDVBDDPC'}\n",
      "{'state': 'RUNNING', 'description': 'testExportGeoTIFF', 'creation_timestamp_ms': 1620244066518, 'update_timestamp_ms': 1620244247032, 'start_timestamp_ms': 1620244094215, 'task_type': 'EXPORT_IMAGE', 'attempt': 1, 'id': 'JHY3QY5R6IZ2LMH5PDVBDDPC', 'name': 'projects/earthengine-legacy/operations/JHY3QY5R6IZ2LMH5PDVBDDPC'}\n",
      "{'state': 'RUNNING', 'description': 'testExportGeoTIFF', 'creation_timestamp_ms': 1620244066518, 'update_timestamp_ms': 1620244247032, 'start_timestamp_ms': 1620244094215, 'task_type': 'EXPORT_IMAGE', 'attempt': 1, 'id': 'JHY3QY5R6IZ2LMH5PDVBDDPC', 'name': 'projects/earthengine-legacy/operations/JHY3QY5R6IZ2LMH5PDVBDDPC'}\n",
      "{'state': 'RUNNING', 'description': 'testExportGeoTIFF', 'creation_timestamp_ms': 1620244066518, 'update_timestamp_ms': 1620244247032, 'start_timestamp_ms': 1620244094215, 'task_type': 'EXPORT_IMAGE', 'attempt': 1, 'id': 'JHY3QY5R6IZ2LMH5PDVBDDPC', 'name': 'projects/earthengine-legacy/operations/JHY3QY5R6IZ2LMH5PDVBDDPC'}\n",
      "{'state': 'RUNNING', 'description': 'testExportGeoTIFF', 'creation_timestamp_ms': 1620244066518, 'update_timestamp_ms': 1620244247032, 'start_timestamp_ms': 1620244094215, 'task_type': 'EXPORT_IMAGE', 'attempt': 1, 'id': 'JHY3QY5R6IZ2LMH5PDVBDDPC', 'name': 'projects/earthengine-legacy/operations/JHY3QY5R6IZ2LMH5PDVBDDPC'}\n",
      "{'state': 'RUNNING', 'description': 'testExportGeoTIFF', 'creation_timestamp_ms': 1620244066518, 'update_timestamp_ms': 1620244247032, 'start_timestamp_ms': 1620244094215, 'task_type': 'EXPORT_IMAGE', 'attempt': 1, 'id': 'JHY3QY5R6IZ2LMH5PDVBDDPC', 'name': 'projects/earthengine-legacy/operations/JHY3QY5R6IZ2LMH5PDVBDDPC'}\n",
      "{'state': 'RUNNING', 'description': 'testExportGeoTIFF', 'creation_timestamp_ms': 1620244066518, 'update_timestamp_ms': 1620244307048, 'start_timestamp_ms': 1620244094215, 'task_type': 'EXPORT_IMAGE', 'attempt': 1, 'id': 'JHY3QY5R6IZ2LMH5PDVBDDPC', 'name': 'projects/earthengine-legacy/operations/JHY3QY5R6IZ2LMH5PDVBDDPC'}\n",
      "{'state': 'RUNNING', 'description': 'testExportGeoTIFF', 'creation_timestamp_ms': 1620244066518, 'update_timestamp_ms': 1620244307048, 'start_timestamp_ms': 1620244094215, 'task_type': 'EXPORT_IMAGE', 'attempt': 1, 'id': 'JHY3QY5R6IZ2LMH5PDVBDDPC', 'name': 'projects/earthengine-legacy/operations/JHY3QY5R6IZ2LMH5PDVBDDPC'}\n",
      "{'state': 'RUNNING', 'description': 'testExportGeoTIFF', 'creation_timestamp_ms': 1620244066518, 'update_timestamp_ms': 1620244307048, 'start_timestamp_ms': 1620244094215, 'task_type': 'EXPORT_IMAGE', 'attempt': 1, 'id': 'JHY3QY5R6IZ2LMH5PDVBDDPC', 'name': 'projects/earthengine-legacy/operations/JHY3QY5R6IZ2LMH5PDVBDDPC'}\n",
      "{'state': 'RUNNING', 'description': 'testExportGeoTIFF', 'creation_timestamp_ms': 1620244066518, 'update_timestamp_ms': 1620244307048, 'start_timestamp_ms': 1620244094215, 'task_type': 'EXPORT_IMAGE', 'attempt': 1, 'id': 'JHY3QY5R6IZ2LMH5PDVBDDPC', 'name': 'projects/earthengine-legacy/operations/JHY3QY5R6IZ2LMH5PDVBDDPC'}\n"
     ]
    },
    {
     "name": "stdout",
     "output_type": "stream",
     "text": [
      "{'state': 'RUNNING', 'description': 'testExportGeoTIFF', 'creation_timestamp_ms': 1620244066518, 'update_timestamp_ms': 1620244307048, 'start_timestamp_ms': 1620244094215, 'task_type': 'EXPORT_IMAGE', 'attempt': 1, 'id': 'JHY3QY5R6IZ2LMH5PDVBDDPC', 'name': 'projects/earthengine-legacy/operations/JHY3QY5R6IZ2LMH5PDVBDDPC'}\n",
      "{'state': 'RUNNING', 'description': 'testExportGeoTIFF', 'creation_timestamp_ms': 1620244066518, 'update_timestamp_ms': 1620244307048, 'start_timestamp_ms': 1620244094215, 'task_type': 'EXPORT_IMAGE', 'attempt': 1, 'id': 'JHY3QY5R6IZ2LMH5PDVBDDPC', 'name': 'projects/earthengine-legacy/operations/JHY3QY5R6IZ2LMH5PDVBDDPC'}\n",
      "{'state': 'RUNNING', 'description': 'testExportGeoTIFF', 'creation_timestamp_ms': 1620244066518, 'update_timestamp_ms': 1620244367061, 'start_timestamp_ms': 1620244094215, 'task_type': 'EXPORT_IMAGE', 'attempt': 1, 'id': 'JHY3QY5R6IZ2LMH5PDVBDDPC', 'name': 'projects/earthengine-legacy/operations/JHY3QY5R6IZ2LMH5PDVBDDPC'}\n",
      "{'state': 'RUNNING', 'description': 'testExportGeoTIFF', 'creation_timestamp_ms': 1620244066518, 'update_timestamp_ms': 1620244367061, 'start_timestamp_ms': 1620244094215, 'task_type': 'EXPORT_IMAGE', 'attempt': 1, 'id': 'JHY3QY5R6IZ2LMH5PDVBDDPC', 'name': 'projects/earthengine-legacy/operations/JHY3QY5R6IZ2LMH5PDVBDDPC'}\n",
      "{'state': 'COMPLETED', 'description': 'testExportGeoTIFF', 'creation_timestamp_ms': 1620244066518, 'update_timestamp_ms': 1620244389423, 'start_timestamp_ms': 1620244094215, 'task_type': 'EXPORT_IMAGE', 'destination_uris': ['https://console.developers.google.com/storage/browser/auven-satellite-data/'], 'attempt': 1, 'id': 'JHY3QY5R6IZ2LMH5PDVBDDPC', 'name': 'projects/earthengine-legacy/operations/JHY3QY5R6IZ2LMH5PDVBDDPC'}\n"
     ]
    }
   ],
   "source": [
    "# Monitor the task.\n",
    "while task.status()['state'] in ['READY', 'RUNNING']:\n",
    "    print(task.status())\n",
    "    time.sleep(10)\n",
    "else:\n",
    "    print(task.status())"
   ]
  },
  {
   "cell_type": "code",
   "execution_count": 38,
   "metadata": {},
   "outputs": [
    {
     "name": "stdout",
     "output_type": "stream",
     "text": [
      "#############\n",
      "   SUCCESS\n",
      "#############\n"
     ]
    }
   ],
   "source": [
    "if task.status()['state'] == 'COMPLETED':\n",
    "    print('#############\\n   SUCCESS\\n#############')\n",
    "else:\n",
    "    print('------------\\n...fail...\\n------------')"
   ]
  },
  {
   "cell_type": "markdown",
   "metadata": {},
   "source": [
    "## Misc -- notes, archive"
   ]
  },
  {
   "cell_type": "code",
   "execution_count": null,
   "metadata": {},
   "outputs": [],
   "source": [
    "# find images with some filters\n",
    "ee.ui.Map.setCenter(-78.614217766, -0.827621582972643, 17)\n",
    "temporal_snapshot = dataset.filter(ee.Filter.date('2017-04-01', '2017-09-02'))\n",
    "sorted = temporal_snapshot.sort('CLOUD_COVER')\n",
    "scene = sorted.first()"
   ]
  },
  {
   "cell_type": "code",
   "execution_count": null,
   "metadata": {},
   "outputs": [],
   "source": [
    "task = ee.batch.Export.image.toCloudStorage(**{\n",
    "    'image': scene,\n",
    "    'description': 'firstImageTest',\n",
    "    'scale': 100,\n",
    "    'region': geometry.getInfo()['coordinates'],\n",
    "    'fileFormat': 'GeoTIFF',\n",
    "    'bucket': gcs_bucket,\n",
    "    'formatOptions': {'cloudOptimized': True}"
   ]
  }
 ],
 "metadata": {
  "kernelspec": {
   "display_name": "Python 3",
   "language": "python",
   "name": "python3"
  },
  "language_info": {
   "codemirror_mode": {
    "name": "ipython",
    "version": 3
   },
   "file_extension": ".py",
   "mimetype": "text/x-python",
   "name": "python",
   "nbconvert_exporter": "python",
   "pygments_lexer": "ipython3",
   "version": "3.8.5"
  },
  "toc": {
   "base_numbering": 1,
   "nav_menu": {},
   "number_sections": true,
   "sideBar": true,
   "skip_h1_title": false,
   "title_cell": "Table of Contents",
   "title_sidebar": "Contents",
   "toc_cell": true,
   "toc_position": {},
   "toc_section_display": true,
   "toc_window_display": false
  }
 },
 "nbformat": 4,
 "nbformat_minor": 4
}
