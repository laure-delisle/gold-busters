{
  "nbformat": 4,
  "nbformat_minor": 0,
  "metadata": {
    "colab": {
      "name": "gee_load_imagery.ipynb",
      "provenance": [],
      "collapsed_sections": [],
      "include_colab_link": true
    },
    "kernelspec": {
      "name": "python3",
      "display_name": "Python 3"
    }
  },
  "cells": [
    {
      "cell_type": "markdown",
      "metadata": {
        "id": "view-in-github",
        "colab_type": "text"
      },
      "source": [
        "<a href=\"https://colab.research.google.com/github/laure-delisle/gold-busters/blob/main/gee_load_imagery.ipynb\" target=\"_parent\"><img src=\"https://colab.research.google.com/assets/colab-badge.svg\" alt=\"Open In Colab\"/></a>"
      ]
    },
    {
      "cell_type": "markdown",
      "metadata": {
        "id": "9eysUOMdrzPq"
      },
      "source": [
        "# Creates image samples from Sentinel 2 collections\n",
        "\n",
        "This script is part of a research project published on the paper \"Mining and Tailings Dam Detection In Satellite Imagery Using Deep Learning\" by Remis Balaniuk, Olga Isupova and Steven Reece. This project was developed at the University of Oxford from September 2019 to February 2020.\n",
        "It was prepared to be used on the Google Colaboratory platform (see https://colab.research.google.com/notebooks/welcome.ipynb ).  "
      ]
    },
    {
      "cell_type": "code",
      "metadata": {
        "id": "vE1lo3lKgL3p"
      },
      "source": [
        "!pip install earthengine-api\n",
        "!pip install geopandas\n",
        "import os\n",
        "import sys\n",
        "import math\n",
        "# Test comment"
      ],
      "execution_count": null,
      "outputs": []
    },
    {
      "cell_type": "markdown",
      "metadata": {
        "id": "MtPTLWyssv-t"
      },
      "source": [
        "The user must have an Google account and sign up to use the Google Earth Engine (see https://earthengine.google.com/)."
      ]
    },
    {
      "cell_type": "code",
      "metadata": {
        "id": "-5HIkyT5gWKW",
        "colab": {
          "base_uri": "https://localhost:8080/",
          "height": 173
        },
        "outputId": "9f39cbaf-aafb-4788-f81d-fd7b0402ca9d"
      },
      "source": [
        "# Import the Earth Engine library.\n",
        "import ee\n",
        "\n",
        "# Trigger the authentication flow.\n",
        "ee.Authenticate()"
      ],
      "execution_count": null,
      "outputs": [
        {
          "output_type": "stream",
          "text": [
            "To authorize access needed by Earth Engine, open the following URL in a web browser and follow the instructions. If the web browser does not start automatically, please manually browse the URL below.\n",
            "\n",
            "    https://accounts.google.com/o/oauth2/auth?client_id=517222506229-vsmmajv00ul0bs7p89v5m89qs8eb9359.apps.googleusercontent.com&scope=https%3A%2F%2Fwww.googleapis.com%2Fauth%2Fearthengine+https%3A%2F%2Fwww.googleapis.com%2Fauth%2Fdevstorage.full_control&redirect_uri=urn%3Aietf%3Awg%3Aoauth%3A2.0%3Aoob&response_type=code&code_challenge=nhL5sPF-2GUmVrISAYfHK2s6vJa17xqQ-SUH_4BVrRU&code_challenge_method=S256\n",
            "\n",
            "The authorization workflow will generate a code, which you should paste in the box below. \n",
            "Enter verification code: 4/ygFcdwX1ajkK7y_790W-P6W9vgLSYhiex7GgzlHpgmddRU0ZKFo2DhI\n",
            "\n",
            "Successfully saved authorization token.\n"
          ],
          "name": "stdout"
        }
      ]
    },
    {
      "cell_type": "markdown",
      "metadata": {
        "id": "tO2PBWWCDih8"
      },
      "source": [
        "Image samples will be saved on the user Google Drive. The drive must be mounted before proceeding."
      ]
    },
    {
      "cell_type": "code",
      "metadata": {
        "id": "XAoS6bhLgXI-"
      },
      "source": [
        "from google.colab import drive\n",
        "drive.mount('/content/drive')\n",
        "# Test comment"
      ],
      "execution_count": null,
      "outputs": []
    },
    {
      "cell_type": "code",
      "metadata": {
        "id": "ekYAZNg2gvte"
      },
      "source": [
        "# Import the Earth Engine Python Package\n",
        "import ee\n",
        "import pandas as pd\n",
        "import numpy as np\n",
        "import geopandas as gpd"
      ],
      "execution_count": null,
      "outputs": []
    },
    {
      "cell_type": "code",
      "metadata": {
        "id": "S5lgF-yhEC-n"
      },
      "source": [
        "# Initialize the Earth Engine object, using the authentication credentials.\n",
        "ee.Initialize()"
      ],
      "execution_count": null,
      "outputs": []
    },
    {
      "cell_type": "code",
      "metadata": {
        "id": "OXGrWxx9ibuL"
      },
      "source": [
        "# Cloud masking function for Sentinel-2.\n",
        "def maskS2clouds(image):\n",
        "  cloudShadowBitMask = ee.Number(2).pow(3).int()\n",
        "  cloudsBitMask = ee.Number(2).pow(5).int()\n",
        "  qa = image.select('QA60')\n",
        "  mask = qa.bitwiseAnd(cloudShadowBitMask).eq(0).And(\n",
        "    qa.bitwiseAnd(cloudsBitMask).eq(0))\n",
        "  return image.updateMask(mask).select(bands).divide(10000)\n"
      ],
      "execution_count": null,
      "outputs": []
    },
    {
      "cell_type": "markdown",
      "metadata": {
        "id": "QaROQmT4Oyw4"
      },
      "source": [
        "Editing the next cell the user can select the spectral bands to be included on the image patches."
      ]
    },
    {
      "cell_type": "code",
      "metadata": {
        "id": "zlg6wqlsiU4p"
      },
      "source": [
        "# Use these bands for prediction.\n",
        "bands = ['B1', 'B2', 'B3', 'B4', 'B5','B6', 'B7', 'B8', 'B9', 'B10', 'B11', 'B12']\n",
        "\n",
        "# Use Sentinel 2 surface reflectance data.\n",
        "sentinel = ee.ImageCollection(\"COPERNICUS/S2\")\n"
      ],
      "execution_count": null,
      "outputs": []
    },
    {
      "cell_type": "markdown",
      "metadata": {
        "id": "NfKWam0gHuMu"
      },
      "source": [
        "Editing the next cell the user can select the time interval (filterDate) and the cloud cover percentage ('CLOUDY_PIXEL_PERCENTAGE') to filter the images used on compose the patches. The shorter the interval the greater the chances to have pixels with no data to display. Regions with frequent cloud cover, like the rain forest, will require a long interval to ensure a complete pixel set."
      ]
    },
    {
      "cell_type": "code",
      "metadata": {
        "id": "fwlGdgKLjFwW"
      },
      "source": [
        "# The image input data is cloud-masked median composite.\n",
        "image = sentinel.filterDate('2018-01-01','2020-01-01').filter(ee.Filter.lte('CLOUDY_PIXEL_PERCENTAGE', 20)).map(maskS2clouds).median().toFloat()\n"
      ],
      "execution_count": null,
      "outputs": []
    },
    {
      "cell_type": "markdown",
      "metadata": {
        "id": "xJIw1aFOD2ZE"
      },
      "source": [
        "On the following the user will be able to choose a csv file from his Google Drive root containing the coordinates (latitude and longitude) of the spots from which he wants to extract the image patches. Additionally, he will be prompted to inform the columns separator used in the csv file. \n",
        "\n",
        "The polygons delimiting the areas of interest described on the csv file can be defined using one of the following schemes:\n",
        "\n",
        "1: using two pairs of coordinates indicating the lower-left  (souththwest) and the upper right (northeast) corners of the polygon;\n",
        "\n",
        "2: defining the coordinates of a central point and the length of the side of a square defined around that point.\n",
        "\n",
        "The user will be prompted to inform which scheme should be used to read the csv file (all records on the file should use the same scheme).\n",
        "\n",
        "A last column on the csv file should be used to inform a class name for the sample. This class name will be used as prefix to name the image files.\n",
        "\n",
        "The csv records should look like this:\n",
        "\n",
        "####-column separator =';' and scheme 1:\n",
        "\n",
        "> lower left y latitude; lower left x longitude; upper right y latitude; upper right x longitude;  class\n",
        "\n",
        "> -20.893706;-45.271998;-18.854222;-41.958905;area1\n",
        "\n",
        "\n",
        "####-column separator =';' and scheme 2:\n",
        "> central point latitude; central point longitude; class name\n",
        "\n",
        ">-23.82113889;-50.42022222;dam\n",
        "\n"
      ]
    },
    {
      "cell_type": "code",
      "metadata": {
        "id": "iTOhU5NdjMzU"
      },
      "source": [
        "def offset(lat,lon,x,y):\n",
        "\n",
        "\t#Earth’s radius, sphere\n",
        "\tR=6378137\n",
        "\n",
        "\t#Coordinate offsets in radians\n",
        "\tdLat = x/R\n",
        "\tdLon = y/(R*math.cos(math.pi*lat/180))\n",
        "\n",
        "\treturn lat + dLat * 180/math.pi, lon + dLon * 180/math.pi\n",
        " \n",
        "\n",
        "def exportImage(data,scheme,size=0):\n",
        "\n",
        "\t# Loop the csv file.\n",
        "\n",
        "\tfor d in range(data.shape[0]):\n",
        "\n",
        "\t\tif scheme == 2:\t\n",
        "\t\t\tx = data[d][0]\n",
        "\t\t\ty = data[d][1]\n",
        "\n",
        "\t\t\tllx , lly = offset(x,y,-size/2,-size/2)\n",
        "\t\t\turx , ury = offset(x,y,size/2,\tsize/2)\n",
        "\n",
        "\t\t\tlabel = data[d][2]\n",
        "\t \n",
        "\t\telse:\n",
        "\n",
        "\t\t\tllx = data[d][0]\n",
        "\t\t\tlly = data[d][1]\n",
        "\t\t\turx = data[d][2]\n",
        "\t\t\tury = data[d][3]\t\n",
        "\n",
        "\t\t\tlabel = data[d][4]\t\n",
        "\n",
        "\t\tgeometry = [[llx,lly], [llx,ury], [urx,ury], [urx,lly]]\n",
        "\n",
        "\t\ttask_config = {\n",
        "\t    'scale':  10 ,\n",
        "\t    'region': geometry\n",
        "\t    }\n",
        "\t\t\n",
        "\t\tname = label + str(d)\n",
        "\t\t# Create a task.\n",
        "\t\ttask = ee.batch.Export.image(image, name, task_config)\n",
        "\n",
        "\t\t# Send the task to the earth engine.\n",
        "\t\ttask.start()    "
      ],
      "execution_count": null,
      "outputs": []
    },
    {
      "cell_type": "code",
      "metadata": {
        "id": "a7rA0mUOdVo0"
      },
      "source": [
        "#MAIN WORKFLOW\n",
        "\n",
        "# assuming the csv file on the My drive root folder (change the %cd if it is not the case)\n",
        "%cd /content/drive/My Drive/\n",
        "files = []\n",
        "count=0\n",
        "for f in os.listdir('./'):\n",
        "  name, ext = os.path.splitext(f)\n",
        "  if ext == '.csv':\n",
        "    files.append(f)\n",
        "    count+=1\n",
        "    print(count,\":\",f)\n",
        "\n",
        "print(\"Choose your file:\")\n",
        "try:\n",
        "  r=int(input('Input:'))\n",
        "except ValueError:\n",
        "  print(\"Not a number\")\n",
        "\n",
        "print(\"csv separator? (typically ';' or ',')\")\n",
        "sep=input('Input:')\n",
        "\n",
        "data = pd.read_csv(files[r-1], sep= sep)\n",
        "data = data.values\n",
        "\n",
        "print(data.shape[0],\"records with\",data.shape[1],\"columns\")\n",
        "\n",
        "if data.shape[1]==3:\n",
        "  print(\"Central point scheme. Please inform the square side length (in meters):\")\n",
        "  try:\n",
        "    size=int(input('Input:'))\n",
        "  except ValueError:\n",
        "    print(\"Not a number\")\n",
        "  exportImage(data,2,size)\n",
        "elif data.shape[1]==5:\n",
        "  exportImage(data,1)\n",
        "else:\n",
        "  print(\"Invalid csv file!\")\n",
        "  sys.exit(0)"
      ],
      "execution_count": null,
      "outputs": []
    },
    {
      "cell_type": "markdown",
      "metadata": {
        "id": "mBTSvF9jyJ4D"
      },
      "source": [
        "If the script was succesfull the tasks should be visible on Google Earth Engine code editor (https://code.earthengine.google.com/) interface. The user must log on to authorize the tasks execution."
      ]
    }
  ]
}