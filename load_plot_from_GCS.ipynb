{
 "cells": [
  {
   "cell_type": "code",
   "execution_count": 41,
   "id": "b74730e7",
   "metadata": {},
   "outputs": [
    {
     "name": "stdout",
     "output_type": "stream",
     "text": [
      "testexportgeotiff.tif\n"
     ]
    }
   ],
   "source": [
    "from google.cloud import storage\n",
    "\n",
    "gcs_bucket = 'auven-satellite-data'\n",
    "service_privatekey = 'goldbusters-data-load-privatekey.json'\n",
    "storage_client = storage.Client.from_service_account_json(service_privatekey)\n",
    "blobs = storage_client.list_blobs(gcs_bucket)\n",
    "\n",
    "# list objects in bucket\n",
    "for blob in blobs:\n",
    "    print(blob.name)"
   ]
  },
  {
   "cell_type": "code",
   "execution_count": 59,
   "id": "f37c2bd3",
   "metadata": {},
   "outputs": [
    {
     "name": "stdout",
     "output_type": "stream",
     "text": [
      "rasterio's version is: 1.2.3\n"
     ]
    }
   ],
   "source": [
    "import rasterio\n",
    "print(\"rasterio's version is: \" + rasterio.__version__)"
   ]
  },
  {
   "cell_type": "code",
   "execution_count": 44,
   "id": "ca7b79ed",
   "metadata": {},
   "outputs": [],
   "source": [
    "# get image from GCS\n",
    "file_name = 'testexportgeotiff.tif'\n",
    "blob = storage_client.bucket(gcs_bucket).get_blob(file_name)"
   ]
  },
  {
   "cell_type": "code",
   "execution_count": 7,
   "id": "aa22b3e7",
   "metadata": {},
   "outputs": [],
   "source": [
    "img = blob.download_as_bytes()"
   ]
  },
  {
   "cell_type": "code",
   "execution_count": 46,
   "id": "ce79cced",
   "metadata": {},
   "outputs": [],
   "source": [
    "blob_uri = f\"gs://{gcs_bucket}/{file_name}\""
   ]
  },
  {
   "cell_type": "code",
   "execution_count": 47,
   "id": "0f3e98f2",
   "metadata": {},
   "outputs": [],
   "source": [
    "vsigs_url = f\"/vsigs/{gcs_bucket}\""
   ]
  },
  {
   "cell_type": "code",
   "execution_count": 70,
   "id": "eb7e1536",
   "metadata": {},
   "outputs": [
    {
     "name": "stdout",
     "output_type": "stream",
     "text": [
      "Number of bands in image: 3\n",
      "Dimensions of image: 2160 x 14502 (width x height)\n"
     ]
    }
   ],
   "source": [
    "with rasterio.Env(GOOGLE_APPLICATION_CREDENTIALS=service_privatekey):\n",
    "    with rasterio.open(blob_uri) as src:\n",
    "        # How many bands does this image have?\n",
    "        num_bands = src.count\n",
    "        print('Number of bands in image: {n}'.format(n=num_bands))\n",
    "        print('Dimensions of image: {} x {} (width x height)'.format(src.width, src.height))\n",
    "        \n",
    "        \n",
    "        # Read raster bands to Numpy array\n",
    "        img = src.read(1)"
   ]
  },
  {
   "cell_type": "code",
   "execution_count": 71,
   "id": "85073686",
   "metadata": {},
   "outputs": [
    {
     "data": {
      "text/plain": [
       "<matplotlib.image.AxesImage at 0x7f07dbc94e20>"
      ]
     },
     "execution_count": 71,
     "metadata": {},
     "output_type": "execute_result"
    },
    {
     "data": {
      "image/png": "[encoded data removed]",
      "text/plain": [
       "<Figure size 432x288 with 1 Axes>"
      ]
     },
     "metadata": {
      "needs_background": "light"
     },
     "output_type": "display_data"
    }
   ],
   "source": [
    "import matplotlib.pyplot as plt\n",
    "plt.imshow(img)"
   ]
  }
 ],
 "metadata": {
  "kernelspec": {
   "display_name": "Python 3",
   "language": "python",
   "name": "python3"
  },
  "language_info": {
   "codemirror_mode": {
    "name": "ipython",
    "version": 3
   },
   "file_extension": ".py",
   "mimetype": "text/x-python",
   "name": "python",
   "nbconvert_exporter": "python",
   "pygments_lexer": "ipython3",
   "version": "3.8.5"
  }
 },
 "nbformat": 4,
 "nbformat_minor": 5
}
